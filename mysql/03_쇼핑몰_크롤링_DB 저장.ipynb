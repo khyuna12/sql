{
 "cells": [
  {
   "cell_type": "code",
   "execution_count": 2,
   "id": "f31f3c8c",
   "metadata": {},
   "outputs": [],
   "source": [
    "from urllib.request import urlopen\n",
    "from bs4 import BeautifulSoup\n",
    "import pandas as pd\n",
    "import numpy as np\n",
    "import pymysql"
   ]
  },
  {
   "cell_type": "markdown",
   "id": "d56d44a3",
   "metadata": {},
   "source": [
    "#### 모든 제품을 크롤링해서 DB에 저장\n",
    "- 저장할 DB부터 테이블 생성해서 형식에 맞게 data 변환 후 DB로 insert\n",
    "\n",
    "1. DB 연결 코드\n",
    "2. 필요한 DB 및 table 생성\n",
    "3. 크롤링\n",
    "    - 데이터를 table 형식에 맞게 정제\n",
    "4. insert (데이터 생성)\n",
    "5. commit()해서 db에 반영\n",
    "6. db 닫기\n",
    "    - db 테이블을 읽어와서 df에 저장"
   ]
  },
  {
   "cell_type": "markdown",
   "id": "d00df853",
   "metadata": {},
   "source": [
    "---\n",
    "1. DB 연결 및 필요 객체 생성"
   ]
  },
  {
   "cell_type": "code",
   "execution_count": 3,
   "id": "498b1494",
   "metadata": {},
   "outputs": [],
   "source": [
    "# db 연결을 활성화해주는 함수 구현\n",
    "def conn(d_name):\n",
    "    import pymysql\n",
    "    host_name = 'localhost'\n",
    "    host_port = 3307\n",
    "    username = 'root'\n",
    "    password = 'toor'\n",
    "    database_name = d_name\n",
    "    db = pymysql.connect(\n",
    "        host=host_name,\n",
    "        port=host_port,\n",
    "        user=username,\n",
    "        passwd=password,\n",
    "        db=database_name,\n",
    "        charset='utf8'\n",
    "    )\n",
    "    return db"
   ]
  },
  {
   "cell_type": "code",
   "execution_count": 5,
   "id": "fa3ef5b0",
   "metadata": {},
   "outputs": [],
   "source": [
    "db = conn('beauty_shop')\n",
    "cursor = db.cursor()"
   ]
  },
  {
   "cell_type": "code",
   "execution_count": 6,
   "id": "7f4206be",
   "metadata": {},
   "outputs": [
    {
     "data": {
      "text/plain": [
       "(('beauty_shop',),\n",
       " ('classicmodels',),\n",
       " ('ecommerce',),\n",
       " ('information_schema',),\n",
       " ('mysql',),\n",
       " ('performance_schema',),\n",
       " ('sakila',),\n",
       " ('sqldb',),\n",
       " ('student_mgmt',),\n",
       " ('sys',),\n",
       " ('tabledb',),\n",
       " ('world',))"
      ]
     },
     "execution_count": 6,
     "metadata": {},
     "output_type": "execute_result"
    }
   ],
   "source": [
    "sql = \"show databases\"\n",
    "cursor.execute(sql)\n",
    "result = cursor.fetchall()\n",
    "result"
   ]
  },
  {
   "cell_type": "code",
   "execution_count": 7,
   "id": "a8aba7ab",
   "metadata": {},
   "outputs": [
    {
     "data": {
      "text/plain": [
       "0"
      ]
     },
     "execution_count": 7,
     "metadata": {},
     "output_type": "execute_result"
    }
   ],
   "source": [
    "sql = \"use beauty_shop\"\n",
    "cursor.execute(sql)"
   ]
  },
  {
   "cell_type": "code",
   "execution_count": 8,
   "id": "abdda541",
   "metadata": {},
   "outputs": [
    {
     "data": {
      "text/plain": [
       "('beauty_shop',)"
      ]
     },
     "execution_count": 8,
     "metadata": {},
     "output_type": "execute_result"
    }
   ],
   "source": [
    "sql = \"select database()\"\n",
    "cursor.execute(sql)\n",
    "result = cursor.fetchone()\n",
    "result"
   ]
  },
  {
   "cell_type": "code",
   "execution_count": 9,
   "id": "a92ff0f0",
   "metadata": {},
   "outputs": [],
   "source": [
    "# table 생성\n",
    "sql = '''\n",
    "    CREATE TABLE product (\n",
    "        PRODUCT_CODE int AUTO_INCREMENT NOT NULL,\n",
    "        TITLE VARCHAR(200) NOT NULL,\n",
    "        ORI_PRICE VARCHAR(100),\n",
    "        DISCOUNT_PRICE VARCHAR(100),\n",
    "        link VARCHAR(200),\n",
    "        PRIMARY KEY(PRODUCT_CODE)\n",
    "        );\n",
    "'''\n",
    "cursor.execute(sql)\n",
    "db.commit()"
   ]
  },
  {
   "cell_type": "code",
   "execution_count": 10,
   "id": "32b05cdc",
   "metadata": {},
   "outputs": [
    {
     "data": {
      "text/plain": [
       "(('product',),)"
      ]
     },
     "execution_count": 10,
     "metadata": {},
     "output_type": "execute_result"
    }
   ],
   "source": [
    "sql = \"show tables\"\n",
    "cursor.execute(sql)\n",
    "result = cursor.fetchall()\n",
    "result"
   ]
  },
  {
   "cell_type": "code",
   "execution_count": 11,
   "id": "7bae3099",
   "metadata": {},
   "outputs": [
    {
     "data": {
      "text/plain": [
       "(('PRODUCT_CODE', 'int', 'NO', 'PRI', None, 'auto_increment'),\n",
       " ('TITLE', 'varchar(200)', 'NO', '', None, ''),\n",
       " ('ORI_PRICE', 'varchar(100)', 'YES', '', None, ''),\n",
       " ('DISCOUNT_PRICE', 'varchar(100)', 'YES', '', None, ''),\n",
       " ('link', 'varchar(200)', 'YES', '', None, ''))"
      ]
     },
     "execution_count": 11,
     "metadata": {},
     "output_type": "execute_result"
    }
   ],
   "source": [
    "sql = \"desc product\"\n",
    "cursor.execute(sql)\n",
    "result = cursor.fetchall()\n",
    "result"
   ]
  },
  {
   "cell_type": "markdown",
   "id": "1cc2d3f4",
   "metadata": {},
   "source": [
    "2. 크롤링 코드 - insert 구문을 추가해서 변경"
   ]
  },
  {
   "cell_type": "code",
   "execution_count": 13,
   "id": "8d2473d8",
   "metadata": {},
   "outputs": [],
   "source": [
    "# 크롤링 문서 요청해서 응답객체 반환(첫번째 크롤링 문서 요청 후 응답)\n",
    "url = \"https://jolse.com/category/toners-mists/1019/\"\n",
    "html = urlopen(url)\n",
    "htmls = html.read()\n",
    "# print(htmls)\n",
    "bs_obj = BeautifulSoup(htmls, \"html.parser\")"
   ]
  },
  {
   "cell_type": "code",
   "execution_count": 14,
   "id": "b34f2e76",
   "metadata": {},
   "outputs": [],
   "source": [
    "# box 안에 들어있는 1개의 상품에서 정보를 추출해서 dict 형태로 반환하는 함수\n",
    "# 데이터 전처리: 제품명에 '제거/가격 USD 제거/세일가격 없는 경우 처리\n",
    "def get_product_info(box) :\n",
    "    strong_tag = box.find(\"strong\",{\"class\":\"name\"})\n",
    "    # 품목 추출\n",
    "    span =strong_tag.text.split(':')[1]\n",
    "    \n",
    "    # 세부페이지링크 추출\n",
    "    a = strong_tag.find(\"a\")\n",
    "    sub_link = 'https://jolse.com' + a[\"href\"]\n",
    "    # 가격 추출 코드\n",
    "    price_ul = box.find(\"ul\")\n",
    "    price_span = \"'\"+price_ul.findAll(\"span\")[1].text+\"'\"\n",
    "    sals_price = \"'\"+box.find('ul').findAll('span')[-1].text+\"'\"\n",
    "    \n",
    "    # 데이터 전처리\n",
    "    title = span.replace(\"'\",\"''\") # ' 처리\n",
    "    ord_price = price_span\n",
    "    dis_price = sals_price\n",
    "   # ord_price = price_span[1].text.split(' ')[1] # USD 제거\n",
    "   # dis_price = price_span[-1].text.split(' ')[1]\n",
    "    # 세일 가격이 없는 경우 \n",
    "    if dis_price =='' :\n",
    "        dis_price = '0.0'\n",
    "    \n",
    "    \n",
    "    # 최종 data 추출 후 반환 \n",
    "    return{\"prd_name\":title,\"price\":ord_price,\"sale_price\":dis_price,\"sub_link\":sub_link}"
   ]
  },
  {
   "cell_type": "code",
   "execution_count": 15,
   "id": "63ef9486",
   "metadata": {},
   "outputs": [],
   "source": [
    "def save_data(prd_info) :\n",
    "#     print(prd_info)\n",
    "    \n",
    "    # insert 구문\n",
    "    sql = \"INSERT INTO product (title, ori_price, discount_price,link) values('\" \\\n",
    "        + prd_info[\"prd_name\"] \\\n",
    "        +\"',\" \\\n",
    "        + prd_info['price']\\\n",
    "        +\",\" \\\n",
    "        + prd_info['sale_price']\\\n",
    "        +\",'\"\\\n",
    "        + prd_info['sub_link']\\\n",
    "        + \"');\"\n",
    "    print(sql)\n",
    "    cursor.execute(sql)"
   ]
  },
  {
   "cell_type": "code",
   "execution_count": 16,
   "id": "1bfb3c41",
   "metadata": {},
   "outputs": [],
   "source": [
    "# 전달된 url 페이지에 접근해서 해당 페이지의 전체 상품 데이터를 추출 한 후\n",
    "# 각 상품마다 get_product_info()\n",
    "# 각 상품에 대한 추출 정보를 받아옴 - 들어온 각 상품 정보를 리스트에 저장한 후 해당 반환\n",
    "def get_page_products(url) :\n",
    "    url=url\n",
    "    html = urlopen(url)\n",
    "    htmls = html.read()\n",
    "    # print(htmls)\n",
    "    bs_obj = BeautifulSoup(htmls,\"html.parser\")\n",
    "\n",
    "    ## 한 페이지에 모든 상품이 들어있는 ul 태그 추출\n",
    "    # ul class:prdList grid4\n",
    "    ul=bs_obj.find(\"ul\",{\"class\":\"prdList grid5\"})\n",
    "    ## 품목 1개를 담고 있는 div 태그 추출\n",
    "    ## div class:box\n",
    "    prd_boxes = ul.findAll(\"div\", {\"class\":\"description\"}) #1개 페이지의 전체 상품\n",
    "    # 반환되는 품목 데이터를 db에 insert  : 함수호출해서 진행\n",
    "    for box in prd_boxes :\n",
    "        prd = get_product_info(box)\n",
    "        print(prd)\n",
    "        save_data(prd) #사용자 정의 함수(생성해야 함)"
   ]
  },
  {
   "cell_type": "markdown",
   "id": "c18bad5b",
   "metadata": {},
   "source": [
    "### main 코드(프로그램 시작점)"
   ]
  },
  {
   "cell_type": "code",
   "execution_count": 17,
   "id": "b966cde5",
   "metadata": {},
   "outputs": [
    {
     "name": "stderr",
     "output_type": "stream",
     "text": [
      "C:\\Users\\kha98\\AppData\\Local\\Temp\\ipykernel_16428\\3187220269.py:8: TqdmDeprecationWarning: This function will be removed in tqdm==5.0.0\n",
      "Please use `tqdm.notebook.tqdm` instead of `tqdm.tqdm_notebook`\n",
      "  for i in tqdm_notebook(range(2,last+1)) : # 2페이지부터 수집\n"
     ]
    },
    {
     "data": {
      "application/vnd.jupyter.widget-view+json": {
       "model_id": "3c2b8840aba04248b8b4a78b9cfe8c9d",
       "version_major": 2,
       "version_minor": 0
      },
      "text/plain": [
       "  0%|          | 0/2 [00:00<?, ?it/s]"
      ]
     },
     "metadata": {},
     "output_type": "display_data"
    },
    {
     "name": "stdout",
     "output_type": "stream",
     "text": [
      "{'prd_name': ' Haruharu WONDER Black Rice Hyaluronic Toner 300ml', 'price': \"'USD 37.00'\", 'sale_price': \"'USD 33.30'\", 'sub_link': 'https://jolse.com/product/haruharu-wonder-black-rice-hyaluronic-toner-300ml/37796/category/1019/display/2/'}\n",
      "INSERT INTO product (title, ori_price, discount_price,link) values(' Haruharu WONDER Black Rice Hyaluronic Toner 300ml','USD 37.00','USD 33.30','https://jolse.com/product/haruharu-wonder-black-rice-hyaluronic-toner-300ml/37796/category/1019/display/2/');\n",
      "{'prd_name': ' SOME BY MI Propolis B5 Glow Barrier Calming Toner 150ml', 'price': \"'USD 22.00'\", 'sale_price': \"'USD 15.40'\", 'sub_link': 'https://jolse.com/product/some-by-mi-propolis-b5-glow-barrier-calming-toner-150ml/42205/category/1019/display/2/'}\n",
      "INSERT INTO product (title, ori_price, discount_price,link) values(' SOME BY MI Propolis B5 Glow Barrier Calming Toner 150ml','USD 22.00','USD 15.40','https://jolse.com/product/some-by-mi-propolis-b5-glow-barrier-calming-toner-150ml/42205/category/1019/display/2/');\n",
      "{'prd_name': ' Haruharu WONDER Black Rice Hyaluronic Toner 300ml', 'price': \"'USD 37.00'\", 'sale_price': \"'USD 33.30'\", 'sub_link': 'https://jolse.com/product/haruharu-wonder-black-rice-hyaluronic-toner-300ml/37796/category/1019/display/2/'}\n",
      "INSERT INTO product (title, ori_price, discount_price,link) values(' Haruharu WONDER Black Rice Hyaluronic Toner 300ml','USD 37.00','USD 33.30','https://jolse.com/product/haruharu-wonder-black-rice-hyaluronic-toner-300ml/37796/category/1019/display/2/');\n",
      "{'prd_name': ' SOME BY MI Propolis B5 Glow Barrier Calming Toner 150ml', 'price': \"'USD 22.00'\", 'sale_price': \"'USD 15.40'\", 'sub_link': 'https://jolse.com/product/some-by-mi-propolis-b5-glow-barrier-calming-toner-150ml/42205/category/1019/display/2/'}\n",
      "INSERT INTO product (title, ori_price, discount_price,link) values(' SOME BY MI Propolis B5 Glow Barrier Calming Toner 150ml','USD 22.00','USD 15.40','https://jolse.com/product/some-by-mi-propolis-b5-glow-barrier-calming-toner-150ml/42205/category/1019/display/2/');\n"
     ]
    }
   ],
   "source": [
    "from tqdm import tqdm_notebook # 상태바 표시\n",
    "\n",
    "#여러 페이지의 화장품 정보를 추출해서 df 에 저장 후 csv에 저장하는 코드\n",
    "url = \"http://jolse.com/category/toners-mists/1019/?page=\" #페이지 번호를 제외한 공통 url 문자열\n",
    "\n",
    "#last= int(bs_obj.find(\"p\",{\"class\":\"last\"}).find(\"a\")['href'].split(\"=\")[1])\n",
    "last=3\n",
    "for i in tqdm_notebook(range(2,last+1)) : # 2페이지부터 수집\n",
    "# for i in range(1,2) : # 1페이지 insert\n",
    "    # url 완성 :page번호를 추가 i 변수 값을 활용\n",
    "    urlfin =url + str(i)\n",
    "    get_page_products(urlfin)"
   ]
  },
  {
   "cell_type": "code",
   "execution_count": 18,
   "id": "63d3eb36",
   "metadata": {},
   "outputs": [],
   "source": [
    "db.commit()"
   ]
  },
  {
   "cell_type": "code",
   "execution_count": 19,
   "id": "2def1974",
   "metadata": {},
   "outputs": [
    {
     "data": {
      "text/plain": [
       "((1,\n",
       "  ' Haruharu WONDER Black Rice Hyaluronic Toner 300ml',\n",
       "  'USD 37.00',\n",
       "  'USD 33.30',\n",
       "  'https://jolse.com/product/haruharu-wonder-black-rice-hyaluronic-toner-300ml/37796/category/1019/display/2/'),\n",
       " (2,\n",
       "  ' SOME BY MI Propolis B5 Glow Barrier Calming Toner 150ml',\n",
       "  'USD 22.00',\n",
       "  'USD 15.40',\n",
       "  'https://jolse.com/product/some-by-mi-propolis-b5-glow-barrier-calming-toner-150ml/42205/category/1019/display/2/'),\n",
       " (3,\n",
       "  ' Haruharu WONDER Black Rice Hyaluronic Toner 300ml',\n",
       "  'USD 37.00',\n",
       "  'USD 33.30',\n",
       "  'https://jolse.com/product/haruharu-wonder-black-rice-hyaluronic-toner-300ml/37796/category/1019/display/2/'),\n",
       " (4,\n",
       "  ' SOME BY MI Propolis B5 Glow Barrier Calming Toner 150ml',\n",
       "  'USD 22.00',\n",
       "  'USD 15.40',\n",
       "  'https://jolse.com/product/some-by-mi-propolis-b5-glow-barrier-calming-toner-150ml/42205/category/1019/display/2/'))"
      ]
     },
     "execution_count": 19,
     "metadata": {},
     "output_type": "execute_result"
    }
   ],
   "source": [
    "sql = \"select * from product\"\n",
    "cursor.execute(sql)\n",
    "result = cursor.fetchall()\n",
    "result"
   ]
  },
  {
   "cell_type": "code",
   "execution_count": 20,
   "id": "bcb52078",
   "metadata": {},
   "outputs": [],
   "source": [
    "db.close()"
   ]
  },
  {
   "cell_type": "markdown",
   "id": "49db3e43",
   "metadata": {},
   "source": [
    "### db 테이블에 저장된 데이터 df로 가져오기"
   ]
  },
  {
   "cell_type": "code",
   "execution_count": 21,
   "id": "86eea4ed",
   "metadata": {},
   "outputs": [],
   "source": [
    "db = conn('beauty_shop')"
   ]
  },
  {
   "cell_type": "code",
   "execution_count": 22,
   "id": "dcbef60c",
   "metadata": {},
   "outputs": [
    {
     "name": "stderr",
     "output_type": "stream",
     "text": [
      "C:\\Users\\kha98\\anaconda3\\lib\\site-packages\\pandas\\io\\sql.py:762: UserWarning: pandas only support SQLAlchemy connectable(engine/connection) ordatabase string URI or sqlite3 DBAPI2 connectionother DBAPI2 objects are not tested, please consider using SQLAlchemy\n",
      "  warnings.warn(\n"
     ]
    },
    {
     "data": {
      "text/html": [
       "<div>\n",
       "<style scoped>\n",
       "    .dataframe tbody tr th:only-of-type {\n",
       "        vertical-align: middle;\n",
       "    }\n",
       "\n",
       "    .dataframe tbody tr th {\n",
       "        vertical-align: top;\n",
       "    }\n",
       "\n",
       "    .dataframe thead th {\n",
       "        text-align: right;\n",
       "    }\n",
       "</style>\n",
       "<table border=\"1\" class=\"dataframe\">\n",
       "  <thead>\n",
       "    <tr style=\"text-align: right;\">\n",
       "      <th></th>\n",
       "      <th>PRODUCT_CODE</th>\n",
       "      <th>TITLE</th>\n",
       "      <th>ORI_PRICE</th>\n",
       "      <th>DISCOUNT_PRICE</th>\n",
       "      <th>link</th>\n",
       "    </tr>\n",
       "  </thead>\n",
       "  <tbody>\n",
       "    <tr>\n",
       "      <th>0</th>\n",
       "      <td>1</td>\n",
       "      <td>Haruharu WONDER Black Rice Hyaluronic Toner 3...</td>\n",
       "      <td>USD 37.00</td>\n",
       "      <td>USD 33.30</td>\n",
       "      <td>https://jolse.com/product/haruharu-wonder-blac...</td>\n",
       "    </tr>\n",
       "    <tr>\n",
       "      <th>1</th>\n",
       "      <td>2</td>\n",
       "      <td>SOME BY MI Propolis B5 Glow Barrier Calming T...</td>\n",
       "      <td>USD 22.00</td>\n",
       "      <td>USD 15.40</td>\n",
       "      <td>https://jolse.com/product/some-by-mi-propolis-...</td>\n",
       "    </tr>\n",
       "    <tr>\n",
       "      <th>2</th>\n",
       "      <td>3</td>\n",
       "      <td>Haruharu WONDER Black Rice Hyaluronic Toner 3...</td>\n",
       "      <td>USD 37.00</td>\n",
       "      <td>USD 33.30</td>\n",
       "      <td>https://jolse.com/product/haruharu-wonder-blac...</td>\n",
       "    </tr>\n",
       "    <tr>\n",
       "      <th>3</th>\n",
       "      <td>4</td>\n",
       "      <td>SOME BY MI Propolis B5 Glow Barrier Calming T...</td>\n",
       "      <td>USD 22.00</td>\n",
       "      <td>USD 15.40</td>\n",
       "      <td>https://jolse.com/product/some-by-mi-propolis-...</td>\n",
       "    </tr>\n",
       "  </tbody>\n",
       "</table>\n",
       "</div>"
      ],
      "text/plain": [
       "   PRODUCT_CODE                                              TITLE  ORI_PRICE  \\\n",
       "0             1   Haruharu WONDER Black Rice Hyaluronic Toner 3...  USD 37.00   \n",
       "1             2   SOME BY MI Propolis B5 Glow Barrier Calming T...  USD 22.00   \n",
       "2             3   Haruharu WONDER Black Rice Hyaluronic Toner 3...  USD 37.00   \n",
       "3             4   SOME BY MI Propolis B5 Glow Barrier Calming T...  USD 22.00   \n",
       "\n",
       "  DISCOUNT_PRICE                                               link  \n",
       "0      USD 33.30  https://jolse.com/product/haruharu-wonder-blac...  \n",
       "1      USD 15.40  https://jolse.com/product/some-by-mi-propolis-...  \n",
       "2      USD 33.30  https://jolse.com/product/haruharu-wonder-blac...  \n",
       "3      USD 15.40  https://jolse.com/product/some-by-mi-propolis-...  "
      ]
     },
     "execution_count": 22,
     "metadata": {},
     "output_type": "execute_result"
    }
   ],
   "source": [
    "sql = \"select * from product\"\n",
    "df = pd.read_sql(sql, db)\n",
    "df"
   ]
  },
  {
   "cell_type": "code",
   "execution_count": 23,
   "id": "32587237",
   "metadata": {},
   "outputs": [
    {
     "name": "stderr",
     "output_type": "stream",
     "text": [
      "C:\\Users\\kha98\\anaconda3\\lib\\site-packages\\pandas\\io\\sql.py:762: UserWarning: pandas only support SQLAlchemy connectable(engine/connection) ordatabase string URI or sqlite3 DBAPI2 connectionother DBAPI2 objects are not tested, please consider using SQLAlchemy\n",
      "  warnings.warn(\n"
     ]
    },
    {
     "data": {
      "text/html": [
       "<div>\n",
       "<style scoped>\n",
       "    .dataframe tbody tr th:only-of-type {\n",
       "        vertical-align: middle;\n",
       "    }\n",
       "\n",
       "    .dataframe tbody tr th {\n",
       "        vertical-align: top;\n",
       "    }\n",
       "\n",
       "    .dataframe thead th {\n",
       "        text-align: right;\n",
       "    }\n",
       "</style>\n",
       "<table border=\"1\" class=\"dataframe\">\n",
       "  <thead>\n",
       "    <tr style=\"text-align: right;\">\n",
       "      <th></th>\n",
       "      <th>title</th>\n",
       "      <th>ori_price</th>\n",
       "      <th>discount_price</th>\n",
       "    </tr>\n",
       "  </thead>\n",
       "  <tbody>\n",
       "    <tr>\n",
       "      <th>0</th>\n",
       "      <td>Haruharu WONDER Black Rice Hyaluronic Toner 3...</td>\n",
       "      <td>USD 37.00</td>\n",
       "      <td>USD 33.30</td>\n",
       "    </tr>\n",
       "    <tr>\n",
       "      <th>1</th>\n",
       "      <td>SOME BY MI Propolis B5 Glow Barrier Calming T...</td>\n",
       "      <td>USD 22.00</td>\n",
       "      <td>USD 15.40</td>\n",
       "    </tr>\n",
       "    <tr>\n",
       "      <th>2</th>\n",
       "      <td>Haruharu WONDER Black Rice Hyaluronic Toner 3...</td>\n",
       "      <td>USD 37.00</td>\n",
       "      <td>USD 33.30</td>\n",
       "    </tr>\n",
       "    <tr>\n",
       "      <th>3</th>\n",
       "      <td>SOME BY MI Propolis B5 Glow Barrier Calming T...</td>\n",
       "      <td>USD 22.00</td>\n",
       "      <td>USD 15.40</td>\n",
       "    </tr>\n",
       "  </tbody>\n",
       "</table>\n",
       "</div>"
      ],
      "text/plain": [
       "                                               title  ori_price discount_price\n",
       "0   Haruharu WONDER Black Rice Hyaluronic Toner 3...  USD 37.00      USD 33.30\n",
       "1   SOME BY MI Propolis B5 Glow Barrier Calming T...  USD 22.00      USD 15.40\n",
       "2   Haruharu WONDER Black Rice Hyaluronic Toner 3...  USD 37.00      USD 33.30\n",
       "3   SOME BY MI Propolis B5 Glow Barrier Calming T...  USD 22.00      USD 15.40"
      ]
     },
     "execution_count": 23,
     "metadata": {},
     "output_type": "execute_result"
    }
   ],
   "source": [
    "sql = \"select title,ori_price,discount_price from product\"\n",
    "df = pd.read_sql(sql, db)\n",
    "df"
   ]
  }
 ],
 "metadata": {
  "kernelspec": {
   "display_name": "Python 3 (ipykernel)",
   "language": "python",
   "name": "python3"
  },
  "language_info": {
   "codemirror_mode": {
    "name": "ipython",
    "version": 3
   },
   "file_extension": ".py",
   "mimetype": "text/x-python",
   "name": "python",
   "nbconvert_exporter": "python",
   "pygments_lexer": "ipython3",
   "version": "3.9.13"
  }
 },
 "nbformat": 4,
 "nbformat_minor": 5
}
