{
 "cells": [
  {
   "cell_type": "code",
   "execution_count": null,
   "id": "977cd95c",
   "metadata": {},
   "outputs": [],
   "source": [
    "!pip install pymysql"
   ]
  },
  {
   "cell_type": "code",
   "execution_count": 1,
   "id": "da576f8f",
   "metadata": {},
   "outputs": [],
   "source": [
    "import pymysql"
   ]
  },
  {
   "cell_type": "code",
   "execution_count": null,
   "id": "2817781e",
   "metadata": {},
   "outputs": [],
   "source": [
    "# dbms 연결 코드\n",
    "db = pymysql.connect(host='localhost', port=3307, user='root', passwd='toor', charset='utf8')"
   ]
  },
  {
   "cell_type": "code",
   "execution_count": null,
   "id": "63afbce4",
   "metadata": {},
   "outputs": [],
   "source": [
    "db"
   ]
  },
  {
   "cell_type": "code",
   "execution_count": null,
   "id": "2ea54910",
   "metadata": {},
   "outputs": [],
   "source": [
    "cursor = db.cursor()"
   ]
  },
  {
   "cell_type": "code",
   "execution_count": null,
   "id": "ee235728",
   "metadata": {},
   "outputs": [],
   "source": [
    "sql = \"create database IF NOT EXISTS ecommerce\"\n",
    "cursor.execute(sql)"
   ]
  },
  {
   "cell_type": "code",
   "execution_count": null,
   "id": "3c483870",
   "metadata": {},
   "outputs": [],
   "source": [
    "sql = \"show databases\"\n",
    "cursor.execute(sql)\n",
    "result = cursor.fetchall()\n",
    "result"
   ]
  },
  {
   "cell_type": "code",
   "execution_count": null,
   "id": "4b87a6a3",
   "metadata": {},
   "outputs": [],
   "source": [
    "# db 변경\n",
    "sql = 'use ecommerce'\n",
    "cursor.execute(sql)"
   ]
  },
  {
   "cell_type": "code",
   "execution_count": null,
   "id": "9ca2ebd9",
   "metadata": {},
   "outputs": [],
   "source": [
    "# 현재 db 확인\n",
    "sql = 'select database()'\n",
    "cursor.execute(sql)\n",
    "result = cursor.fetchone()\n",
    "result"
   ]
  },
  {
   "cell_type": "code",
   "execution_count": null,
   "id": "07cbd160",
   "metadata": {},
   "outputs": [],
   "source": [
    "cursor  # control structure of database"
   ]
  },
  {
   "cell_type": "code",
   "execution_count": null,
   "id": "6da37827",
   "metadata": {},
   "outputs": [],
   "source": [
    "sql = \"\"\"\n",
    "    CREATE TABLE IF NOT EXISTS product (\n",
    "        PRODUCT_CODE VARCHAR(20) NOT NULL,\n",
    "        TITLE VARCHAR(200) NOT NULL,\n",
    "        ORI_PRICE INT,\n",
    "        DISCOUNT_PRICE INT,\n",
    "        DISCOUNT_PERCENT INT,\n",
    "        DELIVERY VARCHAR(2),\n",
    "        PRIMARY KEY(PRODUCT_CODE)\n",
    "    );\n",
    "\"\"\""
   ]
  },
  {
   "cell_type": "code",
   "execution_count": null,
   "id": "dffb75a0",
   "metadata": {},
   "outputs": [],
   "source": [
    "cursor.execute(sql)"
   ]
  },
  {
   "cell_type": "code",
   "execution_count": null,
   "id": "15bd49a4",
   "metadata": {},
   "outputs": [],
   "source": [
    "sql = 'show tables'\n",
    "cursor.execute(sql)\n",
    "result = cursor.fetchall()\n",
    "result"
   ]
  },
  {
   "cell_type": "markdown",
   "id": "ed29a5d2",
   "metadata": {},
   "source": [
    "- 삽입, 갱신, 삭제 등이 모두 끝났으면 connection 객체에서 `commit()` 메서드 사용하여 데이터를 commit"
   ]
  },
  {
   "cell_type": "code",
   "execution_count": null,
   "id": "aff781b7",
   "metadata": {},
   "outputs": [],
   "source": [
    "db.close  # 연결종료"
   ]
  },
  {
   "cell_type": "markdown",
   "id": "fa66fbbe",
   "metadata": {},
   "source": [
    "### 패턴으로 익히는 pymysql"
   ]
  },
  {
   "cell_type": "code",
   "execution_count": null,
   "id": "e7c3a4b9",
   "metadata": {},
   "outputs": [],
   "source": [
    "import pymysql\n",
    "\n",
    "# 접속\n",
    "db = pymysql.connect(host='localhost', port=3307, user='root', passwd='toor', db='ecommerce', charset='utf8')"
   ]
  },
  {
   "cell_type": "code",
   "execution_count": null,
   "id": "770a5842",
   "metadata": {},
   "outputs": [],
   "source": [
    "# 커서 가져오기\n",
    "cursor = db.cursor()"
   ]
  },
  {
   "cell_type": "code",
   "execution_count": null,
   "id": "423a6ef8",
   "metadata": {},
   "outputs": [],
   "source": [
    "sql = '''\n",
    "    CREATE TABLE IF NOT EXISTS product2 (\n",
    "        PRODUCT_CODE VARCHAR(20) NOT NULL,\n",
    "        TITLE VARCHAR(200) NOT NULL,\n",
    "        ORI_PRICE INT,\n",
    "        DISCOUNT_PRICE INT,\n",
    "        DISCOUNT_PERCENT INT,\n",
    "        DELIVERY VARCHAR(2),\n",
    "        PRIMARY KEY(PRODUCT_CODE)\n",
    "        );\n",
    "'''"
   ]
  },
  {
   "cell_type": "code",
   "execution_count": null,
   "id": "dc487d65",
   "metadata": {},
   "outputs": [],
   "source": [
    "# sql 구문 실행\n",
    "cursor.execute(sql)"
   ]
  },
  {
   "cell_type": "code",
   "execution_count": null,
   "id": "acddd74f",
   "metadata": {},
   "outputs": [],
   "source": [
    "print(sql)"
   ]
  },
  {
   "cell_type": "code",
   "execution_count": null,
   "id": "37032f44",
   "metadata": {},
   "outputs": [],
   "source": [
    "sql = 'show tables'\n",
    "cursor.execute(sql)\n",
    "result = cursor.fetchall()\n",
    "result"
   ]
  },
  {
   "cell_type": "code",
   "execution_count": null,
   "id": "6f2d4ce5",
   "metadata": {},
   "outputs": [],
   "source": [
    "# DB에 Complete 하기\n",
    "db.commit()"
   ]
  },
  {
   "cell_type": "code",
   "execution_count": null,
   "id": "6c1cc934",
   "metadata": {},
   "outputs": [],
   "source": [
    "# DB 연결 닫기\n",
    "db.close()"
   ]
  },
  {
   "cell_type": "markdown",
   "id": "c81d39db",
   "metadata": {},
   "source": [
    "- 데이터 삽입(INSERT)\n",
    "    - Cursor Object 가져오기: `cursor = db.cursor()`\n",
    "    - SQL 실행: `cursor.execute(SQL)`\n",
    "    - 실행 mysql 서버에 확정 반영: `db.commit()`"
   ]
  },
  {
   "cell_type": "code",
   "execution_count": null,
   "id": "e6504032",
   "metadata": {},
   "outputs": [],
   "source": [
    "# 1. 라이브러리 가져오기\n",
    "import pymysql\n",
    "\n",
    "# 2. 접속하기\n",
    "db = pymysql.connect(host='localhost', port=3307, user='root', passwd='toor', db='ecommerce', charset='utf8')"
   ]
  },
  {
   "cell_type": "code",
   "execution_count": null,
   "id": "7d746bd8",
   "metadata": {},
   "outputs": [],
   "source": [
    "# 3. 커서 가져오기\n",
    "cursor = db.cursor()"
   ]
  },
  {
   "cell_type": "code",
   "execution_count": null,
   "id": "331cbe70",
   "metadata": {},
   "outputs": [],
   "source": [
    "for index in range(10):\n",
    "    product_code = 216573140 + index + 1\n",
    "    # print(product_code)\n",
    "    sql = \"\"\"INSERT INTO product2 VALUES(\n",
    "    '\"\"\" + str(product_code) + \"\"\"', '스위트바니 여름신상 5900원~ 롱원피스티셔츠/긴팔/반팔', 23000, 6900, 70, 'F'); \"\"\"\n",
    "    print(sql)\n",
    "    cursor.execute(sql)"
   ]
  },
  {
   "cell_type": "code",
   "execution_count": null,
   "id": "800bf327",
   "metadata": {},
   "outputs": [],
   "source": [
    "db.commit()"
   ]
  },
  {
   "cell_type": "code",
   "execution_count": null,
   "id": "2e483ab9",
   "metadata": {},
   "outputs": [],
   "source": [
    "db.close()"
   ]
  },
  {
   "cell_type": "markdown",
   "id": "bc0cc2d3",
   "metadata": {},
   "source": [
    "- 데이터 조회(SELECT)\n",
    "    - Cursor Object 가져오기: `cursor = db.cursor()`\n",
    "    - SQL 실행: `cursor.execute(SQL)`\n",
    "    - **mysql 서버로부터 데이터 가져오기**: **fetch** 메서드 사용\n",
    "        - `fetchall()`: Fetch all the rows\n",
    "        - `fetchmany(size=None)`: Fetch several rows\n",
    "        - `fetchone()`: Fetch the next row"
   ]
  },
  {
   "cell_type": "code",
   "execution_count": null,
   "id": "0a5ae304",
   "metadata": {},
   "outputs": [],
   "source": [
    "import pymysql\n",
    "\n",
    "db = pymysql.connect(host='localhost', port=3307, user='root', passwd='toor', db='ecommerce', charset='utf8')\n",
    "cursor = db.cursor()"
   ]
  },
  {
   "cell_type": "code",
   "execution_count": null,
   "id": "1a1ea776",
   "metadata": {},
   "outputs": [],
   "source": [
    "sql = 'select * from product2'\n",
    "cursor.execute(sql)"
   ]
  },
  {
   "cell_type": "code",
   "execution_count": null,
   "id": "48bb0cfb",
   "metadata": {},
   "outputs": [],
   "source": [
    "result = cursor.fetchall()\n",
    "result"
   ]
  },
  {
   "cell_type": "code",
   "execution_count": null,
   "id": "0a4cef8d",
   "metadata": {},
   "outputs": [],
   "source": [
    "db.close()"
   ]
  },
  {
   "cell_type": "markdown",
   "id": "c49bb0c2",
   "metadata": {},
   "source": [
    "- 데이터 수정(UPDATE)\n",
    "    - Cursor Object 가져오기: `cursor = db.cursor()`\n",
    "    - SQL 실행: `cursor.execute(SQL)`\n",
    "    - 실행 mysql 서버에 확정 반영: `db.commit()`"
   ]
  },
  {
   "cell_type": "code",
   "execution_count": null,
   "id": "ddccfba2",
   "metadata": {},
   "outputs": [],
   "source": [
    "db = pymysql.connect(host='localhost', port=3307, user='root', passwd='toor', db='ecommerce', charset='utf8')\n",
    "cursor = db.cursor()"
   ]
  },
  {
   "cell_type": "code",
   "execution_count": null,
   "id": "2f23046f",
   "metadata": {},
   "outputs": [],
   "source": [
    "sql = \"\"\"\n",
    "UPDATE product2 SET\n",
    "    TITLE = '하늘하늘 원피스 썸머 스페셜 가디건',\n",
    "    ORI_PRICE=33000,\n",
    "    DISCOUNT_PRICE=9900,\n",
    "    DISCOUNT_PERCENT=70\n",
    "    WHERE PRODUCT_CODE = '216573141'\n",
    "\"\"\"\n",
    "cursor.execute(sql)\n",
    "db.commit()"
   ]
  },
  {
   "cell_type": "code",
   "execution_count": null,
   "id": "90c6a3b7",
   "metadata": {},
   "outputs": [],
   "source": [
    "sql = \"select * from product2 where product_code = '216573141'\"\n",
    "\n",
    "cursor.execute(sql)\n",
    "\n",
    "result = cursor.fetchone()\n",
    "\n",
    "result"
   ]
  },
  {
   "cell_type": "code",
   "execution_count": null,
   "id": "4f2b776f",
   "metadata": {},
   "outputs": [],
   "source": [
    "db.close()"
   ]
  },
  {
   "cell_type": "markdown",
   "id": "a1e21a9a",
   "metadata": {},
   "source": [
    "- 데이터 삭제(DELETE)\n",
    "    - Cursor Object 가져오기: `cursor = db.cursor()`\n",
    "    - SQL 실행: `cursor.execute(SQL)`\n",
    "    - 실행 mysql 서버에 확정 반영: `db.commit()`"
   ]
  },
  {
   "cell_type": "code",
   "execution_count": 6,
   "id": "de6ed827",
   "metadata": {},
   "outputs": [],
   "source": [
    "db = pymysql.connect(host='localhost', port=3307, user='root', passwd='toor', db='ecommerce', charset='utf8')\n",
    "cursor = db.cursor()"
   ]
  },
  {
   "cell_type": "code",
   "execution_count": 7,
   "id": "451dacba",
   "metadata": {},
   "outputs": [],
   "source": [
    "sql = \"DELETE FROM product2 WHERE product_code='216573141'\"\n",
    "cursor.execute(sql)\n",
    "db.commit()\n",
    "db.close()"
   ]
  },
  {
   "cell_type": "code",
   "execution_count": 8,
   "id": "2414a895",
   "metadata": {},
   "outputs": [
    {
     "name": "stdout",
     "output_type": "stream",
     "text": [
      "None\n"
     ]
    }
   ],
   "source": [
    "db = pymysql.connect(host='localhost', port=3307, user='root', passwd='toor', db='ecommerce', charset='utf8')\n",
    "cursor = db.cursor()\n",
    "sql = \"\"\" select * from product2 where product_code='216573141'\"\"\"\n",
    "cursor.execute(sql)\n",
    "result = cursor.fetchone()\n",
    "print(result)"
   ]
  },
  {
   "cell_type": "code",
   "execution_count": 9,
   "id": "1c75554f",
   "metadata": {},
   "outputs": [],
   "source": [
    "db.commit()\n",
    "db.close()"
   ]
  }
 ],
 "metadata": {
  "kernelspec": {
   "display_name": "Python 3 (ipykernel)",
   "language": "python",
   "name": "python3"
  },
  "language_info": {
   "codemirror_mode": {
    "name": "ipython",
    "version": 3
   },
   "file_extension": ".py",
   "mimetype": "text/x-python",
   "name": "python",
   "nbconvert_exporter": "python",
   "pygments_lexer": "ipython3",
   "version": "3.9.13"
  }
 },
 "nbformat": 4,
 "nbformat_minor": 5
}
