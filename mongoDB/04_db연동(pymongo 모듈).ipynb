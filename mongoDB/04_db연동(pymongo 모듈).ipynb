{
 "cells": [
  {
   "cell_type": "code",
   "execution_count": 1,
   "id": "61a117f5",
   "metadata": {},
   "outputs": [
    {
     "name": "stdout",
     "output_type": "stream",
     "text": [
      "Collecting pymongo\n",
      "  Downloading pymongo-4.5.0-cp39-cp39-win_amd64.whl (468 kB)\n",
      "     -------------------------------------- 468.2/468.2 kB 7.4 MB/s eta 0:00:00\n",
      "Collecting dnspython<3.0.0,>=1.16.0\n",
      "  Downloading dnspython-2.4.2-py3-none-any.whl (300 kB)\n",
      "     -------------------------------------- 300.4/300.4 kB 9.4 MB/s eta 0:00:00\n",
      "Installing collected packages: dnspython, pymongo\n",
      "Successfully installed dnspython-2.4.2 pymongo-4.5.0\n"
     ]
    }
   ],
   "source": [
    "!pip install pymongo"
   ]
  },
  {
   "cell_type": "code",
   "execution_count": 2,
   "id": "844f0587",
   "metadata": {},
   "outputs": [],
   "source": [
    "from pymongo import MongoClient"
   ]
  },
  {
   "cell_type": "code",
   "execution_count": 3,
   "id": "95e94070",
   "metadata": {},
   "outputs": [],
   "source": [
    "client = MongoClient(\"mongodb://localhost:27017/\")"
   ]
  },
  {
   "cell_type": "code",
   "execution_count": 4,
   "id": "a2b298dd",
   "metadata": {},
   "outputs": [],
   "source": [
    "db = client['test-db']"
   ]
  },
  {
   "cell_type": "code",
   "execution_count": 5,
   "id": "c734486b",
   "metadata": {},
   "outputs": [
    {
     "name": "stdout",
     "output_type": "stream",
     "text": [
      "['admin', 'config', 'local', 'test']\n"
     ]
    }
   ],
   "source": [
    "print(client.list_database_names())"
   ]
  },
  {
   "cell_type": "code",
   "execution_count": 6,
   "id": "90a47713",
   "metadata": {},
   "outputs": [
    {
     "data": {
      "text/plain": [
       "{'author': 'Mike',\n",
       " 'text': 'My first blog post!',\n",
       " 'tags': ['mongodb', 'python', 'pymongo'],\n",
       " 'date': datetime.datetime(2023, 8, 29, 8, 19, 3, 448842)}"
      ]
     },
     "execution_count": 6,
     "metadata": {},
     "output_type": "execute_result"
    }
   ],
   "source": [
    "import datetime\n",
    "post = { \"author\":\"Mike\",\n",
    "       \"text\":\"My first blog post!\",\n",
    "       \"tags\":[\"mongodb\", \"python\", \"pymongo\"],\n",
    "       \"date\":datetime.datetime.utcnow()}\n",
    "post"
   ]
  },
  {
   "cell_type": "code",
   "execution_count": 7,
   "id": "749062fe",
   "metadata": {},
   "outputs": [],
   "source": [
    "posts = db.posts"
   ]
  },
  {
   "cell_type": "code",
   "execution_count": 8,
   "id": "062e1e10",
   "metadata": {},
   "outputs": [
    {
     "name": "stdout",
     "output_type": "stream",
     "text": [
      "<pymongo.results.InsertOneResult object at 0x0000025EFFC35730>\n"
     ]
    }
   ],
   "source": [
    "post_id = posts.insert_one(post)\n",
    "print(post_id)"
   ]
  },
  {
   "cell_type": "code",
   "execution_count": 10,
   "id": "a9e3a506",
   "metadata": {},
   "outputs": [],
   "source": [
    "new_posts = [{ \"author\":\"Mike\",\n",
    "       \"text\":\"Another post!\",\n",
    "       \"tags\":[\"bulk\", \"insert\"],\n",
    "       \"date\":datetime.datetime(2009, 11, 12, 11, 14)},\n",
    "            {\"author\":\"Eliot\",\n",
    "       \"title\":\"MongoDB is fun\",\n",
    "       \"text\":\"and pretty easy too!\",\n",
    "       \"date\":datetime.datetime(2009, 11, 10, 10, 45)}]"
   ]
  },
  {
   "cell_type": "code",
   "execution_count": 12,
   "id": "3b13b0ae",
   "metadata": {},
   "outputs": [],
   "source": [
    "result = posts.insert_many(new_posts)"
   ]
  },
  {
   "cell_type": "code",
   "execution_count": 14,
   "id": "2e4cb014",
   "metadata": {},
   "outputs": [
    {
     "name": "stdout",
     "output_type": "stream",
     "text": [
      "Mike My first blog post!\n",
      "Mike Another post!\n",
      "Eliot and pretty easy too!\n"
     ]
    }
   ],
   "source": [
    "for d in db['posts'].find():\n",
    "    print(d['author'],d['text'])"
   ]
  },
  {
   "cell_type": "code",
   "execution_count": 16,
   "id": "25e143ec",
   "metadata": {},
   "outputs": [
    {
     "name": "stdout",
     "output_type": "stream",
     "text": [
      "My first blog post!\n"
     ]
    }
   ],
   "source": [
    "print(db.posts.find_one({'author':'Mike'})['text'])"
   ]
  },
  {
   "cell_type": "code",
   "execution_count": 17,
   "id": "2614fa9a",
   "metadata": {},
   "outputs": [
    {
     "name": "stdout",
     "output_type": "stream",
     "text": [
      "{'_id': ObjectId('64edaa158727704789674c74'), 'author': 'Mike', 'tags': ['mongodb', 'python', 'pymongo'], 'date': datetime.datetime(2023, 8, 29, 8, 19, 3, 448000)}\n",
      "{'_id': ObjectId('64edab038727704789674c75'), 'author': 'Mike', 'tags': ['bulk', 'insert'], 'date': datetime.datetime(2009, 11, 12, 11, 14)}\n",
      "{'_id': ObjectId('64edab038727704789674c76'), 'author': 'Eliot', 'title': 'MongoDB is fun', 'date': datetime.datetime(2009, 11, 10, 10, 45)}\n"
     ]
    }
   ],
   "source": [
    "for d in db['posts'].find({}, {'text':0}):\n",
    "    print(d)"
   ]
  },
  {
   "cell_type": "code",
   "execution_count": 18,
   "id": "3d1f2efa",
   "metadata": {},
   "outputs": [
    {
     "name": "stdout",
     "output_type": "stream",
     "text": [
      "{'_id': ObjectId('64edaa158727704789674c74'),\n",
      " 'author': 'Mike',\n",
      " 'date': datetime.datetime(2023, 8, 29, 8, 19, 3, 448000),\n",
      " 'tags': ['mongodb', 'python', 'pymongo'],\n",
      " 'text': 'My first blog post!'}\n"
     ]
    }
   ],
   "source": [
    "import pprint\n",
    "pprint.pprint(posts.find_one())"
   ]
  },
  {
   "cell_type": "code",
   "execution_count": 19,
   "id": "57b5ba9b",
   "metadata": {},
   "outputs": [
    {
     "name": "stdout",
     "output_type": "stream",
     "text": [
      "{'_id': ObjectId('64edaa158727704789674c74'),\n",
      " 'author': 'Mike',\n",
      " 'date': datetime.datetime(2023, 8, 29, 8, 19, 3, 448000),\n",
      " 'tags': ['mongodb', 'python', 'pymongo'],\n",
      " 'text': 'My first blog post!'}\n"
     ]
    }
   ],
   "source": [
    "pprint.pprint(posts.find_one({'author':'Mike'}))"
   ]
  },
  {
   "cell_type": "code",
   "execution_count": 20,
   "id": "43bc49d3",
   "metadata": {},
   "outputs": [
    {
     "name": "stdout",
     "output_type": "stream",
     "text": [
      "{'_id': ObjectId('64edaa158727704789674c74'),\n",
      " 'author': 'Mike',\n",
      " 'date': datetime.datetime(2023, 8, 29, 8, 19, 3, 448000),\n",
      " 'tags': ['mongodb', 'python', 'pymongo'],\n",
      " 'text': 'My first blog post!'}\n",
      "{'_id': ObjectId('64edab038727704789674c75'),\n",
      " 'author': 'Mike',\n",
      " 'date': datetime.datetime(2009, 11, 12, 11, 14),\n",
      " 'tags': ['bulk', 'insert'],\n",
      " 'text': 'Another post!'}\n"
     ]
    }
   ],
   "source": [
    "for post in posts.find({'author':'Mike'}):\n",
    "    pprint.pprint(post)"
   ]
  }
 ],
 "metadata": {
  "kernelspec": {
   "display_name": "Python 3 (ipykernel)",
   "language": "python",
   "name": "python3"
  },
  "language_info": {
   "codemirror_mode": {
    "name": "ipython",
    "version": 3
   },
   "file_extension": ".py",
   "mimetype": "text/x-python",
   "name": "python",
   "nbconvert_exporter": "python",
   "pygments_lexer": "ipython3",
   "version": "3.9.13"
  }
 },
 "nbformat": 4,
 "nbformat_minor": 5
}
